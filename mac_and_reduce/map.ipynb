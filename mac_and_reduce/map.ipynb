{
 "cells": [
  {
   "cell_type": "markdown",
   "metadata": {},
   "source": [
    "map transforms a sequence of data into a different sequence\n",
    "- the input and output will have the same size"
   ]
  },
  {
   "cell_type": "code",
   "execution_count": 1,
   "metadata": {},
   "outputs": [],
   "source": [
    "def sum_seven(element):\n",
    "    \"\"\"\n",
    "    we just want to sum +7 in each element of a list\n",
    "    \"\"\"\n",
    "    return element + 7"
   ]
  },
  {
   "cell_type": "code",
   "execution_count": 2,
   "metadata": {},
   "outputs": [
    {
     "data": {
      "text/plain": [
       "[8, 9, 15, 14, 11]"
      ]
     },
     "execution_count": 2,
     "metadata": {},
     "output_type": "execute_result"
    }
   ],
   "source": [
    "my_list = [1, 2, 8, 7, 4]\n",
    "list(map(sum_seven, my_list)) "
   ]
  },
  {
   "cell_type": "markdown",
   "metadata": {},
   "source": [
    "- reduce.reduce allows us to take a sequence of data and transform it into a data structure with any shape or size\n",
    "\n",
    "MapReduce: map to transform some data into another type of data, then reduce to combine that data"
   ]
  },
  {
   "cell_type": "code",
   "execution_count": 23,
   "metadata": {},
   "outputs": [
    {
     "name": "stdout",
     "output_type": "stream",
     "text": [
      "34\n"
     ]
    }
   ],
   "source": [
    "# sum of the factor of a sequence of number\n",
    "import functools\n",
    "\n",
    "def get_factor(element):\n",
    "    factor = [i for i in range(1, element + 1) if element % i == 0]\n",
    "    return factor\n",
    "\n",
    "def get_biggest_value(element):\n",
    "    return element[-1]\n",
    "\n",
    "list_of_factors = list(map(get_factor, my_list))\n",
    "biggest_value = list(map(get_biggest_value, list_of_factors))\n",
    "sub_reduce = functools.reduce(lambda x, y: x + y, list_of_factors)\n",
    "print(sum(sub_reduce))"
   ]
  },
  {
   "cell_type": "code",
   "execution_count": null,
   "metadata": {},
   "outputs": [],
   "source": []
  }
 ],
 "metadata": {
  "kernelspec": {
   "display_name": "Python 3",
   "language": "python",
   "name": "python3"
  },
  "language_info": {
   "codemirror_mode": {
    "name": "ipython",
    "version": 3
   },
   "file_extension": ".py",
   "mimetype": "text/x-python",
   "name": "python",
   "nbconvert_exporter": "python",
   "pygments_lexer": "ipython3",
   "version": "3.6.5"
  }
 },
 "nbformat": 4,
 "nbformat_minor": 4
}
