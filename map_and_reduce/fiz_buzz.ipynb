{
 "cells": [
  {
   "cell_type": "code",
   "execution_count": 7,
   "metadata": {},
   "outputs": [],
   "source": [
    "class FizzBuzz:\n",
    "    def __init__(self):\n",
    "        self.counter = 0\n",
    "    \n",
    "    def foo(self,_):\n",
    "        self.counter += 1\n",
    "        if (self.counter % 3) == 0:\n",
    "            x = \"buzz\"\n",
    "        else:\n",
    "            x = \"fizz\"\n",
    "        print(x)\n",
    "        return x"
   ]
  },
  {
   "cell_type": "code",
   "execution_count": 9,
   "metadata": {},
   "outputs": [
    {
     "name": "stdout",
     "output_type": "stream",
     "text": [
      "fizz\n",
      "fizz\n",
      "buzz\n",
      "fizz\n",
      "fizz\n",
      "buzz\n",
      "fizz\n",
      "fizz\n",
      "buzz\n",
      "fizz\n",
      "fizz\n",
      "buzz\n",
      "fizz\n",
      "fizz\n",
      "buzz\n",
      "fizz\n",
      "fizz\n",
      "buzz\n",
      "fizz\n",
      "fizz\n",
      "buzz\n"
     ]
    }
   ],
   "source": [
    "\"\"\"\n",
    "in every third element, we get a 'buzz'\n",
    "\"\"\"\n",
    "FB = FizzBuzz()\n",
    "for i in range(21):\n",
    "    FB.foo(i)"
   ]
  },
  {
   "cell_type": "code",
   "execution_count": 11,
   "metadata": {},
   "outputs": [
    {
     "name": "stdout",
     "output_type": "stream",
     "text": [
      "fizzfizzfizzfizzfizzfizzfizzfizzfizzfizzfizz\n",
      "\n",
      "fizz\n",
      "\n",
      "\n",
      "\n",
      "\n",
      "\n",
      "\n",
      "\n",
      "\n",
      "\n",
      "fizzfizzfizzfizzfizzfizzfizzfizzfizz\n",
      "\n",
      "\n",
      "\n",
      "\n",
      "\n",
      "\n",
      "\n",
      "\n"
     ]
    },
    {
     "data": {
      "text/plain": [
       "'\\nmap is lazy programing. Since FB is started with 0, the first time we ask for the foo method, it has 0 as counter. \\nThat said, map will keep calling with the first statment, and since 0 gives us a \\'fizz\\', the output will be only\\n\"fizz\"\\n'"
      ]
     },
     "execution_count": 11,
     "metadata": {},
     "output_type": "execute_result"
    }
   ],
   "source": [
    "# parallel\n",
    "from multiprocessing import Pool\n",
    "with Pool() as P:\n",
    "    P.map(FB.foo, range(21)) # we only get 'fizz'\n",
    "    \n",
    "\"\"\"\n",
    "map is lazy programing. Since FB is started with 0, the first time we ask for the foo method, it has 0 as counter. \n",
    "That said, map will keep calling with the first statment, and since 0 gives us a 'fizz', the output will be only\n",
    "\"fizz\"\n",
    "\"\"\""
   ]
  },
  {
   "cell_type": "code",
   "execution_count": 19,
   "metadata": {},
   "outputs": [],
   "source": [
    "# simple solution is to pass the number to evaluate as a parameter\n",
    "def foo(counter):\n",
    "    counter += 1\n",
    "    if (counter % 3) == 0:\n",
    "        x = \"buzz\"\n",
    "    else:\n",
    "        x = \"fizz\"\n",
    "    print(x)\n",
    "    return x"
   ]
  },
  {
   "cell_type": "code",
   "execution_count": 21,
   "metadata": {},
   "outputs": [
    {
     "name": "stdout",
     "output_type": "stream",
     "text": [
      "buzzfizzfizzfizzfizzfizzbuzzfizzfizz\n",
      "\n",
      "\n",
      "fizzbuzz\n",
      "\n",
      "\n",
      "\n",
      "\n",
      "\n",
      "buzz\n",
      "\n",
      "fizz\n",
      "fizzbuzzfizzfizzbuzzfizzfizzbuzz\n",
      "\n",
      "\n",
      "\n",
      "\n",
      "\n",
      "\n",
      "\n",
      "\n"
     ]
    },
    {
     "data": {
      "text/plain": [
       "\"\\nThis will return both 'fizz' and 'buzz' values, however it won't be in the expected order.\\nThis is because the previous statment about multiprocessing and how it works. Sometimes a\\n'fizz' job can take longer, other times 'buzz' can take longer.\\n\""
      ]
     },
     "execution_count": 21,
     "metadata": {},
     "output_type": "execute_result"
    }
   ],
   "source": [
    "from multiprocessing import Pool\n",
    "with Pool() as P:\n",
    "    P.map(foo, range(21))\n",
    "\n",
    "\"\"\"\n",
    "This will return both 'fizz' and 'buzz' values, however it won't be in the expected order.\n",
    "This is because the previous statment about multiprocessing and how it works. Sometimes a\n",
    "'fizz' job can take longer, other times 'buzz' can take longer.\n",
    "\"\"\""
   ]
  },
  {
   "cell_type": "code",
   "execution_count": null,
   "metadata": {},
   "outputs": [],
   "source": []
  }
 ],
 "metadata": {
  "kernelspec": {
   "display_name": "Python 3",
   "language": "python",
   "name": "python3"
  },
  "language_info": {
   "codemirror_mode": {
    "name": "ipython",
    "version": 3
   },
   "file_extension": ".py",
   "mimetype": "text/x-python",
   "name": "python",
   "nbconvert_exporter": "python",
   "pygments_lexer": "ipython3",
   "version": "3.6.5"
  }
 },
 "nbformat": 4,
 "nbformat_minor": 4
}
