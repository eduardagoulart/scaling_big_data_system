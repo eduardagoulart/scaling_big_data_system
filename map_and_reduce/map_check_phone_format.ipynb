{
 "cells": [
  {
   "cell_type": "markdown",
   "metadata": {},
   "source": [
    "You want to generate a call list for Sales team, but there was no validation in the system, so phone numbers can have different format:\n",
    "- (123) 123-7890\n",
    "- 1231237890\n",
    "- 123.123.7890\n",
    "- +1 123 123-7890"
   ]
  },
  {
   "cell_type": "code",
   "execution_count": 3,
   "metadata": {},
   "outputs": [
    {
     "name": "stdout",
     "output_type": "stream",
     "text": [
      "['(123) 123-7890', '(324) 678-6709', '(444) 432-5643', '(456) 678-9065']\n"
     ]
    }
   ],
   "source": [
    "\"\"\"\n",
    "creating a for loop and applying a regex expression to filter\n",
    "the format we want\n",
    "\"\"\"\n",
    "import re\n",
    "phones_numbers = [\n",
    "    \"(123) 123-7890\",\n",
    "    \"3246786709\",\n",
    "    \"444.432.5643\",\n",
    "    \"+1 456 678-9065\"\n",
    "]\n",
    "formated_numbers = []\n",
    "regex = re.compile(r\"\\d\")\n",
    "\n",
    "for number in phones_numbers:\n",
    "    digits = regex.findall(number)\n",
    "    area_code = \"\".join(digits[-10:-7])\n",
    "    first_3 = \"\".join(digits[-7:-4])\n",
    "    last_4 = \"\".join(digits[-4:])\n",
    "    \n",
    "    prettier_format = f\"({area_code}) {first_3}-{last_4}\"\n",
    "    formated_numbers.append(prettier_format)\n",
    "\n",
    "print(formated_numbers)"
   ]
  },
  {
   "cell_type": "code",
   "execution_count": 12,
   "metadata": {},
   "outputs": [
    {
     "name": "stdout",
     "output_type": "stream",
     "text": [
      "['(123) 123-7890', '(324) 678-6709', '(444) 432-5643', '(456) 678-9065']\n"
     ]
    }
   ],
   "source": [
    "\"\"\"\n",
    "With map we will create a class o format the number\n",
    "then apply the method that writes the pretty_format in the \n",
    "list\n",
    "\"\"\"\n",
    "class PhoneFormater:\n",
    "    def __init__(self):\n",
    "        self.regex = re.compile(r\"\\d\")\n",
    "    \n",
    "    def pretty_format(self, number):\n",
    "        digits = regex.findall(number)\n",
    "        area_code = \"\".join(digits[-10:-7])\n",
    "        first_3 = \"\".join(digits[-7:-4])\n",
    "        last_4 = \"\".join(digits[-4:])\n",
    "    \n",
    "        return f\"({area_code}) {first_3}-{last_4}\"\n",
    "        \n",
    "# in this use case, it's shown how we can avoid loops using map\n",
    "pretty = PhoneFormater()\n",
    "output = list(map(pretty.pretty_format, phones_numbers))\n",
    "print(output)"
   ]
  },
  {
   "cell_type": "code",
   "execution_count": null,
   "metadata": {},
   "outputs": [],
   "source": []
  }
 ],
 "metadata": {
  "kernelspec": {
   "display_name": "Python 3",
   "language": "python",
   "name": "python3"
  },
  "language_info": {
   "codemirror_mode": {
    "name": "ipython",
    "version": 3
   },
   "file_extension": ".py",
   "mimetype": "text/x-python",
   "name": "python",
   "nbconvert_exporter": "python",
   "pygments_lexer": "ipython3",
   "version": "3.6.5"
  }
 },
 "nbformat": 4,
 "nbformat_minor": 4
}
